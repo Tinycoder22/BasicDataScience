{
 "cells": [
  {
   "attachments": {},
   "cell_type": "markdown",
   "metadata": {},
   "source": [
    "###  One Hot / Dummy Encoding Method."
   ]
  },
  {
   "cell_type": "code",
   "execution_count": 3,
   "metadata": {},
   "outputs": [
    {
     "name": "stdout",
     "output_type": "stream",
     "text": [
      "   color_blue  color_green  color_red\n",
      "0         0.0          0.0        1.0\n",
      "1         1.0          0.0        0.0\n",
      "2         0.0          1.0        0.0\n",
      "3         0.0          0.0        1.0\n",
      "4         1.0          0.0        0.0\n"
     ]
    }
   ],
   "source": [
    "import pandas as pd\n",
    "from sklearn.preprocessing import OneHotEncoder\n",
    "\n",
    "# create sample data\n",
    "df = pd.DataFrame({'color': ['red', 'blue', 'green', 'red', 'blue']})\n",
    "\n",
    "# create OneHotEncoder object\n",
    "encoder = OneHotEncoder()\n",
    "\n",
    "# encode the data\n",
    "encoded_data = encoder.fit_transform(df[['color']]).toarray()\n",
    "\n",
    "# create a new dataframe with the encoded data\n",
    "encoded_df = pd.DataFrame(encoded_data, columns=encoder.get_feature_names_out(['color']))\n",
    "\n",
    "# print the encoded dataframe\n",
    "print(encoded_df)\n"
   ]
  },
  {
   "cell_type": "code",
   "execution_count": 1,
   "metadata": {},
   "outputs": [
    {
     "name": "stdout",
     "output_type": "stream",
     "text": [
      "Requirement already satisfied: scikit-learn in c:\\users\\gourav\\appdata\\local\\programs\\python\\python39\\lib\\site-packages (1.2.2)\n",
      "Requirement already satisfied: numpy>=1.17.3 in c:\\users\\gourav\\appdata\\local\\programs\\python\\python39\\lib\\site-packages (from scikit-learn) (1.24.3)\n",
      "Requirement already satisfied: scipy>=1.3.2 in c:\\users\\gourav\\appdata\\local\\programs\\python\\python39\\lib\\site-packages (from scikit-learn) (1.10.1)\n",
      "Requirement already satisfied: joblib>=1.1.1 in c:\\users\\gourav\\appdata\\local\\programs\\python\\python39\\lib\\site-packages (from scikit-learn) (1.2.0)\n",
      "Requirement already satisfied: threadpoolctl>=2.0.0 in c:\\users\\gourav\\appdata\\local\\programs\\python\\python39\\lib\\site-packages (from scikit-learn) (3.1.0)\n"
     ]
    }
   ],
   "source": [
    "!pip install scikit-learn"
   ]
  },
  {
   "attachments": {},
   "cell_type": "markdown",
   "metadata": {},
   "source": [
    "### Label / Ordinal encoding"
   ]
  },
  {
   "cell_type": "code",
   "execution_count": 4,
   "metadata": {},
   "outputs": [
    {
     "name": "stdout",
     "output_type": "stream",
     "text": [
      "   color  encoded_color\n",
      "0    red              2\n",
      "1   blue              0\n",
      "2  green              1\n",
      "3    red              2\n",
      "4   blue              0\n"
     ]
    }
   ],
   "source": [
    "import pandas as pd\n",
    "from sklearn.preprocessing import LabelEncoder\n",
    "\n",
    "# create sample data\n",
    "df = pd.DataFrame({'color': ['red', 'blue', 'green', 'red', 'blue']})\n",
    "\n",
    "# create LabelEncoder object\n",
    "encoder = LabelEncoder()\n",
    "\n",
    "# encode the data\n",
    "df['encoded_color'] = encoder.fit_transform(df['color'])\n",
    "\n",
    "# print the encoded dataframe\n",
    "print(df)\n"
   ]
  },
  {
   "attachments": {},
   "cell_type": "markdown",
   "metadata": {},
   "source": [
    "### Target encoding"
   ]
  },
  {
   "cell_type": "code",
   "execution_count": 1,
   "metadata": {},
   "outputs": [
    {
     "name": "stdout",
     "output_type": "stream",
     "text": [
      "      color  label\n",
      "0  0.656740      1\n",
      "1  0.514889      0\n",
      "2  0.652043      1\n",
      "3  0.656740      1\n",
      "4  0.514889      0\n"
     ]
    }
   ],
   "source": [
    "import pandas as pd\n",
    "from category_encoders import TargetEncoder\n",
    "\n",
    "# create sample data\n",
    "df = pd.DataFrame({'color': ['red', 'blue', 'green', 'red', 'blue'], \n",
    "                   'label': [1, 0, 1, 1, 0]})\n",
    "\n",
    "# create TargetEncoder object\n",
    "encoder = TargetEncoder(cols=['color'])\n",
    "\n",
    "# encode the data\n",
    "df = encoder.fit_transform(df, df['label'])\n",
    "\n",
    "# print the encoded dataframe\n",
    "print(df)\n"
   ]
  },
  {
   "attachments": {},
   "cell_type": "markdown",
   "metadata": {},
   "source": [
    "###  Frequency / count encoding"
   ]
  },
  {
   "cell_type": "code",
   "execution_count": 4,
   "metadata": {},
   "outputs": [
    {
     "name": "stdout",
     "output_type": "stream",
     "text": [
      "   color  count_encoded\n",
      "0    red              2\n",
      "1   blue              2\n",
      "2  green              1\n",
      "3    red              2\n",
      "4   blue              2\n"
     ]
    }
   ],
   "source": [
    "import pandas as pd\n",
    "\n",
    "# create sample data\n",
    "df = pd.DataFrame({'color': ['red', 'blue', 'green', 'red', 'blue']})\n",
    "\n",
    "# create count dictionary\n",
    "count_dict = df['color'].value_counts().to_dict()\n",
    "\n",
    "# map count dictionary to create new column with count values\n",
    "df['count_encoded'] = df['color'].map(count_dict)\n",
    "\n",
    "# print the encoded dataframe\n",
    "print(df)\n"
   ]
  },
  {
   "attachments": {},
   "cell_type": "markdown",
   "metadata": {},
   "source": [
    "###  Binary encoding"
   ]
  },
  {
   "cell_type": "code",
   "execution_count": 5,
   "metadata": {},
   "outputs": [
    {
     "name": "stdout",
     "output_type": "stream",
     "text": [
      "   color  color_0  color_1\n",
      "0    red        0        1\n",
      "1   blue        1        0\n",
      "2  green        1        1\n",
      "3    red        0        1\n",
      "4   blue        1        0\n"
     ]
    }
   ],
   "source": [
    "import pandas as pd\n",
    "from category_encoders import BinaryEncoder\n",
    "\n",
    "# create sample data\n",
    "df = pd.DataFrame({'color': ['red', 'blue', 'green', 'red', 'blue']})\n",
    "\n",
    "# create BinaryEncoder object\n",
    "encoder = BinaryEncoder()\n",
    "\n",
    "# encode the data\n",
    "encoded_data = encoder.fit_transform(df['color'])\n",
    "\n",
    "# create a new dataframe with the encoded data\n",
    "encoded_df = pd.concat([df, encoded_data], axis=1)\n",
    "\n",
    "# print the encoded dataframe\n",
    "print(encoded_df)\n"
   ]
  },
  {
   "attachments": {},
   "cell_type": "markdown",
   "metadata": {},
   "source": [
    "### Feature Hashing"
   ]
  },
  {
   "cell_type": "code",
   "execution_count": 5,
   "metadata": {},
   "outputs": [
    {
     "name": "stdout",
     "output_type": "stream",
     "text": [
      "   hash_1  hash_2  hash_3\n",
      "0     0.0    -1.0     0.0\n",
      "1     0.0     0.0    -1.0\n",
      "2     1.0     0.0     0.0\n",
      "3     0.0    -1.0     0.0\n",
      "4     0.0     0.0    -1.0\n"
     ]
    }
   ],
   "source": [
    "import pandas as pd\n",
    "from sklearn.feature_extraction import FeatureHasher\n",
    "\n",
    "# create sample data\n",
    "df = pd.DataFrame({'color': ['red', 'blue', 'green', 'red', 'blue']})\n",
    "\n",
    "# create FeatureHasher object\n",
    "hasher = FeatureHasher(n_features=3, input_type='string')\n",
    "\n",
    "# encode the data\n",
    "hashed_data = hasher.transform(df[['color']].values.tolist())\n",
    "\n",
    "# create a new dataframe with the hashed data\n",
    "hashed_df = pd.DataFrame(hashed_data.toarray(), columns=['hash_1', 'hash_2', 'hash_3'])\n",
    "\n",
    "# print the encoded dataframe\n",
    "print(hashed_df)\n"
   ]
  },
  {
   "attachments": {},
   "cell_type": "markdown",
   "metadata": {},
   "source": [
    "### Pearson’s coefficient."
   ]
  },
  {
   "cell_type": "code",
   "execution_count": 7,
   "metadata": {},
   "outputs": [
    {
     "name": "stdout",
     "output_type": "stream",
     "text": [
      "Pearson's coefficient: 1.0\n",
      "p-value: 0.0\n"
     ]
    }
   ],
   "source": [
    "import pandas as pd\n",
    "from scipy.stats import pearsonr\n",
    "\n",
    "# create sample data\n",
    "df = pd.DataFrame({'x': [1, 2, 3, 4, 5], 'y': [2, 4, 6, 8, 10]})\n",
    "\n",
    "# calculate Pearson's coefficient and p-value\n",
    "pearson_coeff, p_value = pearsonr(df['x'], df['y'])\n",
    "\n",
    "# print the results\n",
    "print(\"Pearson's coefficient:\", pearson_coeff)\n",
    "print(\"p-value:\", p_value)\n"
   ]
  },
  {
   "attachments": {},
   "cell_type": "markdown",
   "metadata": {},
   "source": [
    "### Correlation Matrix."
   ]
  },
  {
   "cell_type": "code",
   "execution_count": 8,
   "metadata": {},
   "outputs": [
    {
     "name": "stdout",
     "output_type": "stream",
     "text": [
      "     x    y    z\n",
      "x  1.0  1.0  1.0\n",
      "y  1.0  1.0  1.0\n",
      "z  1.0  1.0  1.0\n"
     ]
    }
   ],
   "source": [
    "import pandas as pd\n",
    "\n",
    "# create sample data\n",
    "df = pd.DataFrame({'x': [1, 2, 3, 4, 5], 'y': [2, 4, 6, 8, 10], 'z': [1, 3, 5, 7, 9]})\n",
    "\n",
    "# create correlation matrix\n",
    "correlation_matrix = df.corr()\n",
    "\n",
    "# print the correlation matrix\n",
    "print(correlation_matrix)\n"
   ]
  },
  {
   "attachments": {},
   "cell_type": "markdown",
   "metadata": {},
   "source": [
    "### Positive, Neutral, Negative Correlation."
   ]
  },
  {
   "cell_type": "code",
   "execution_count": 9,
   "metadata": {},
   "outputs": [
    {
     "name": "stdout",
     "output_type": "stream",
     "text": [
      "The correlation between x and y is positive\n"
     ]
    }
   ],
   "source": [
    "import pandas as pd\n",
    "\n",
    "# create sample data\n",
    "df = pd.DataFrame({'x': [1, 2, 3, 4, 5], 'y': [2, 4, 6, 8, 10]})\n",
    "\n",
    "# calculate Pearson's coefficient\n",
    "pearson_coeff = df['x'].corr(df['y'])\n",
    "\n",
    "# identify the type of correlation\n",
    "if pearson_coeff > 0:\n",
    "    correlation_type = 'positive'\n",
    "elif pearson_coeff == 0:\n",
    "    correlation_type = 'neutral'\n",
    "else:\n",
    "    correlation_type = 'negative'\n",
    "\n",
    "# print the type of correlation\n",
    "print('The correlation between x and y is', correlation_type)\n"
   ]
  }
 ],
 "metadata": {
  "kernelspec": {
   "display_name": "Python 3",
   "language": "python",
   "name": "python3"
  },
  "language_info": {
   "codemirror_mode": {
    "name": "ipython",
    "version": 3
   },
   "file_extension": ".py",
   "mimetype": "text/x-python",
   "name": "python",
   "nbconvert_exporter": "python",
   "pygments_lexer": "ipython3",
   "version": "3.9.1"
  },
  "orig_nbformat": 4
 },
 "nbformat": 4,
 "nbformat_minor": 2
}
