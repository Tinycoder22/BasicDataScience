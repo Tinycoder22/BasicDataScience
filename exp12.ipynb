{
  "nbformat": 4,
  "nbformat_minor": 0,
  "metadata": {
    "colab": {
      "provenance": [],
      "authorship_tag": "ABX9TyNtbQpto+SMapb4nMLSvIhe",
      "include_colab_link": true
    },
    "kernelspec": {
      "name": "python3",
      "display_name": "Python 3"
    },
    "language_info": {
      "name": "python"
    }
  },
  "cells": [
    {
      "cell_type": "markdown",
      "metadata": {
        "id": "view-in-github",
        "colab_type": "text"
      },
      "source": [
        "<a href=\"https://colab.research.google.com/github/Tinycoder22/BasicDataScience/blob/main/exp12.ipynb\" target=\"_parent\"><img src=\"https://colab.research.google.com/assets/colab-badge.svg\" alt=\"Open In Colab\"/></a>"
      ]
    },
    {
      "cell_type": "code",
      "execution_count": 7,
      "metadata": {
        "colab": {
          "base_uri": "https://localhost:8080/"
        },
        "id": "N1jH9YpzfroY",
        "outputId": "d857064b-090d-40e6-9164-7c01ceb99b4d"
      },
      "outputs": [
        {
          "output_type": "stream",
          "name": "stdout",
          "text": [
            "Downloading data from https://storage.googleapis.com/tensorflow/tf-keras-datasets/train-labels-idx1-ubyte.gz\n",
            "29515/29515 [==============================] - 0s 0us/step\n",
            "Downloading data from https://storage.googleapis.com/tensorflow/tf-keras-datasets/train-images-idx3-ubyte.gz\n",
            "26421880/26421880 [==============================] - 0s 0us/step\n",
            "Downloading data from https://storage.googleapis.com/tensorflow/tf-keras-datasets/t10k-labels-idx1-ubyte.gz\n",
            "5148/5148 [==============================] - 0s 0us/step\n",
            "Downloading data from https://storage.googleapis.com/tensorflow/tf-keras-datasets/t10k-images-idx3-ubyte.gz\n",
            "4422102/4422102 [==============================] - 0s 0us/step\n",
            "Epoch 1/10\n",
            "375/375 [==============================] - 4s 9ms/step - loss: 1.2433 - accuracy: 0.5161 - val_loss: 0.8865 - val_accuracy: 0.6477\n",
            "Epoch 2/10\n",
            "375/375 [==============================] - 3s 8ms/step - loss: 0.7602 - accuracy: 0.7195 - val_loss: 0.6747 - val_accuracy: 0.7525\n",
            "Epoch 3/10\n",
            "375/375 [==============================] - 4s 9ms/step - loss: 0.6253 - accuracy: 0.7811 - val_loss: 0.5983 - val_accuracy: 0.7895\n",
            "Epoch 4/10\n",
            "375/375 [==============================] - 3s 9ms/step - loss: 0.5769 - accuracy: 0.8000 - val_loss: 0.5366 - val_accuracy: 0.8143\n",
            "Epoch 5/10\n",
            "375/375 [==============================] - 3s 8ms/step - loss: 0.5345 - accuracy: 0.8152 - val_loss: 0.5222 - val_accuracy: 0.8151\n",
            "Epoch 6/10\n",
            "375/375 [==============================] - 3s 8ms/step - loss: 0.5169 - accuracy: 0.8188 - val_loss: 0.5087 - val_accuracy: 0.8219\n",
            "Epoch 7/10\n",
            "375/375 [==============================] - 3s 9ms/step - loss: 0.5050 - accuracy: 0.8255 - val_loss: 0.4798 - val_accuracy: 0.8344\n",
            "Epoch 8/10\n",
            "375/375 [==============================] - 3s 9ms/step - loss: 0.4820 - accuracy: 0.8325 - val_loss: 0.5394 - val_accuracy: 0.8102\n",
            "Epoch 9/10\n",
            "375/375 [==============================] - 3s 8ms/step - loss: 0.4738 - accuracy: 0.8361 - val_loss: 0.5044 - val_accuracy: 0.8270\n",
            "Epoch 10/10\n",
            "375/375 [==============================] - 3s 8ms/step - loss: 0.4689 - accuracy: 0.8352 - val_loss: 0.4599 - val_accuracy: 0.8365\n"
          ]
        },
        {
          "output_type": "execute_result",
          "data": {
            "text/plain": [
              "<keras.src.callbacks.History at 0x7f4839e60bb0>"
            ]
          },
          "metadata": {},
          "execution_count": 7
        }
      ],
      "source": [
        "import tensorflow as tf\n",
        "from tensorflow.keras.layers import Layer, Dense\n",
        "from tensorflow.keras.datasets import fashion_mnist\n",
        "from tensorflow.keras.utils import to_categorical\n",
        "\n",
        "# Load and preprocess the Fashion MNIST dataset\n",
        "(x_train, y_train), (x_test, y_test) = fashion_mnist.load_data()\n",
        "x_train, x_test = x_train / 255.0, x_test / 255.0\n",
        "y_train, y_test = to_categorical(y_train, 10), to_categorical(y_test, 10)\n",
        "\n",
        "# Custom RNN Layer\n",
        "class CustomRNN(Layer):\n",
        "    def __init__(self, units):\n",
        "        super(CustomRNN, self).__init__()\n",
        "        self.units = units\n",
        "        self.state_size = units\n",
        "\n",
        "    def build(self, input_shape):\n",
        "        input_dim = input_shape[-1]\n",
        "        self.kernel = self.add_weight(shape=(input_dim, self.units),\n",
        "                                      initializer='random_normal',\n",
        "                                      trainable=True)\n",
        "        self.recurrent_kernel = self.add_weight(shape=(self.units, self.units),\n",
        "                                                initializer='random_normal',\n",
        "                                                trainable=True)\n",
        "        self.built = True\n",
        "\n",
        "    def call(self, inputs, states):\n",
        "        prev_output = states[0]\n",
        "        h = tf.matmul(inputs, self.kernel) + tf.matmul(prev_output, self.recurrent_kernel)\n",
        "        output = tf.nn.relu(h)  # Using ReLU activation function\n",
        "        return output, output\n",
        "\n",
        "# Build a simple RNN model using the CustomRNN layer\n",
        "model1 = tf.keras.Sequential([\n",
        "    tf.keras.layers.RNN(CustomRNN(units=64), input_shape=(28, 28)),\n",
        "    Dense(10, activation='softmax')\n",
        "])\n",
        "\n",
        "# Compile the model\n",
        "model1.compile(optimizer='adam',\n",
        "               loss='categorical_crossentropy',\n",
        "               metrics=['accuracy'])\n",
        "\n",
        "# Train the model\n",
        "model1.fit(x_train, y_train, epochs=10, batch_size=128, validation_split=0.2)\n"
      ]
    },
    {
      "cell_type": "code",
      "source": [
        "# Evaluate the model on test data\n",
        "test_loss, test_accuracy = model1.evaluate(x_test, y_test, verbose=2)\n",
        "print(f'Test accuracy: {test_accuracy}')\n"
      ],
      "metadata": {
        "colab": {
          "base_uri": "https://localhost:8080/"
        },
        "id": "cADFPkB-gtv9",
        "outputId": "d307b5bf-cacc-4dec-8bb7-403242e98ec2"
      },
      "execution_count": 8,
      "outputs": [
        {
          "output_type": "stream",
          "name": "stdout",
          "text": [
            "313/313 - 1s - loss: 0.4751 - accuracy: 0.8295 - 874ms/epoch - 3ms/step\n",
            "Test accuracy: 0.8295000195503235\n"
          ]
        }
      ]
    },
    {
      "cell_type": "code",
      "source": [
        "import matplotlib.pyplot as plt\n",
        "import numpy as np\n",
        "\n",
        "# Make predictions using the trained model\n",
        "predictions = model1.predict(x_test)\n",
        "\n",
        "# Visualize the predictions alongside the actual images and labels horizontally\n",
        "num_images_to_visualize = 10\n",
        "fig, axes = plt.subplots(1, num_images_to_visualize, figsize=(20, 2))\n",
        "\n",
        "for i in range(num_images_to_visualize):\n",
        "    axes[i].imshow(x_test[i], cmap='gray')\n",
        "    axes[i].set_title(f\"Predicted: {np.argmax(predictions[i])}\\nActual: {np.argmax(y_test[i])}\")\n",
        "    axes[i].axis('off')\n",
        "\n",
        "plt.show()\n"
      ],
      "metadata": {
        "colab": {
          "base_uri": "https://localhost:8080/",
          "height": 188
        },
        "id": "cihB7CRggxT3",
        "outputId": "ff9e3106-70cd-4d7d-aed9-af4c4fdcda6b"
      },
      "execution_count": 10,
      "outputs": [
        {
          "output_type": "stream",
          "name": "stdout",
          "text": [
            "313/313 [==============================] - 1s 3ms/step\n"
          ]
        },
        {
          "output_type": "display_data",
          "data": {
            "text/plain": [
              "<Figure size 2000x200 with 10 Axes>"
            ],
            "image/png": "[encoded data removed]"
          },
          "metadata": {}
        }
      ]
    },
    {
      "cell_type": "code",
      "source": [
        "import tensorflow as tf\n",
        "from tensorflow.keras.layers import Layer, Dense\n",
        "from tensorflow.keras.datasets import fashion_mnist\n",
        "from tensorflow.keras.utils import to_categorical\n",
        "\n",
        "# Load and preprocess the Fashion MNIST dataset\n",
        "(x_train, y_train), (x_test, y_test) = fashion_mnist.load_data()\n",
        "x_train, x_test = x_train / 255.0, x_test / 255.0\n",
        "y_train, y_test = to_categorical(y_train, 10), to_categorical(y_test, 10)\n",
        "\n",
        "# Custom RNN Layer\n",
        "class CustomRNN(Layer):\n",
        "    def __init__(self, units):\n",
        "        super(CustomRNN, self).__init__()\n",
        "        self.units = units\n",
        "        self.state_size = units\n",
        "\n",
        "    def build(self, input_shape):\n",
        "        input_dim = input_shape[-1]\n",
        "        self.kernel = self.add_weight(shape=(input_dim, self.units),\n",
        "                                      initializer='random_normal',\n",
        "                                      trainable=True)\n",
        "        self.recurrent_kernel = self.add_weight(shape=(self.units, self.units),\n",
        "                                                initializer='random_normal',\n",
        "                                                trainable=True)\n",
        "        self.built = True\n",
        "\n",
        "    def call(self, inputs, states):\n",
        "        prev_output = states[0]\n",
        "        h = tf.matmul(inputs, self.kernel) + tf.matmul(prev_output, self.recurrent_kernel)\n",
        "        output = tf.nn.relu(h)  # Using ReLU activation function\n",
        "        return output, output\n",
        "\n",
        "# Build a deep RNN model using multiple instances of CustomRNN layer\n",
        "model2 = tf.keras.Sequential([\n",
        "    tf.keras.layers.RNN(CustomRNN(units=64), return_sequences=True, input_shape=(28, 28)),\n",
        "    tf.keras.layers.RNN(CustomRNN(units=64), return_sequences=True),\n",
        "    tf.keras.layers.RNN(CustomRNN(units=64)),\n",
        "    Dense(10, activation='softmax')\n",
        "])\n",
        "\n",
        "# Compile the model\n",
        "model2.compile(optimizer='adam',\n",
        "               loss='categorical_crossentropy',\n",
        "               metrics=['accuracy'])\n",
        "\n",
        "# Train the model\n",
        "model2.fit(x_train, y_train, epochs=10, batch_size=128, validation_split=0.2)\n",
        "\n",
        "# Evaluate the model on test data\n",
        "test_loss, test_accuracy = model2.evaluate(x_test, y_test, verbose=2)\n",
        "print(f'Test accuracy: {test_accuracy}')\n"
      ],
      "metadata": {
        "colab": {
          "base_uri": "https://localhost:8080/"
        },
        "id": "ksxDouHhg4XT",
        "outputId": "7c06f5a3-45c9-4c0f-f6da-fa58788f2baf"
      },
      "execution_count": null,
      "outputs": [
        {
          "output_type": "stream",
          "name": "stdout",
          "text": [
            "Epoch 1/10\n",
            "375/375 [==============================] - 14s 30ms/step - loss: 1.2796 - accuracy: 0.4798 - val_loss: 0.9016 - val_accuracy: 0.6472\n",
            "Epoch 2/10\n",
            "375/375 [==============================] - 11s 28ms/step - loss: 0.7815 - accuracy: 0.7082 - val_loss: 0.6600 - val_accuracy: 0.7563\n",
            "Epoch 3/10\n",
            "375/375 [==============================] - 12s 31ms/step - loss: 0.6329 - accuracy: 0.7728 - val_loss: 0.5749 - val_accuracy: 0.7963\n",
            "Epoch 4/10\n",
            "375/375 [==============================] - 10s 26ms/step - loss: 0.5640 - accuracy: 0.8024 - val_loss: 0.5210 - val_accuracy: 0.8171\n",
            "Epoch 5/10\n",
            "375/375 [==============================] - 10s 27ms/step - loss: 0.5102 - accuracy: 0.8229 - val_loss: 0.5052 - val_accuracy: 0.8312\n",
            "Epoch 6/10\n",
            "375/375 [==============================] - 11s 29ms/step - loss: 0.4783 - accuracy: 0.8347 - val_loss: 0.4683 - val_accuracy: 0.8402\n",
            "Epoch 7/10\n",
            "375/375 [==============================] - 11s 28ms/step - loss: 0.4490 - accuracy: 0.8429 - val_loss: 0.4776 - val_accuracy: 0.8382\n",
            "Epoch 8/10\n",
            "375/375 [==============================] - 11s 28ms/step - loss: 0.4340 - accuracy: 0.8475 - val_loss: 0.4306 - val_accuracy: 0.8500\n",
            "Epoch 9/10\n",
            "375/375 [==============================] - 12s 33ms/step - loss: 0.4112 - accuracy: 0.8532 - val_loss: 0.4346 - val_accuracy: 0.8514\n",
            "Epoch 10/10\n",
            "375/375 [==============================] - 10s 26ms/step - loss: 0.4050 - accuracy: 0.8566 - val_loss: 0.4200 - val_accuracy: 0.8543\n"
          ]
        }
      ]
    },
    {
      "cell_type": "code",
      "source": [
        "# Make predictions using the trained model\n",
        "predictions = model2.predict(x_test)\n",
        "# Visualize the predictions alongside the actual images and labels horizont\n",
        "num_images_to_visualize = 10\n",
        "fig, axes = plt.subplots(1, num_images_to_visualize, figsize=(20, 2))\n",
        "for i in range(num_images_to_visualize):\n",
        " axes[i].imshow(x_test[i], cmap='gray')\n",
        " axes[i].set_title(f\"Predicted: {np.argmax(predictions[i])}\\nActual: {np\n",
        " axes[i].axis('off')\n",
        "plt.show()"
      ],
      "metadata": {
        "id": "3taipd5Phex2"
      },
      "execution_count": null,
      "outputs": []
    }
  ]
}