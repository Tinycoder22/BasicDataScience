{
 "cells": [
  {
   "attachments": {},
   "cell_type": "markdown",
   "metadata": {},
   "source": [
    "### Mean"
   ]
  },
  {
   "cell_type": "code",
   "execution_count": 1,
   "metadata": {},
   "outputs": [
    {
     "name": "stdout",
     "output_type": "stream",
     "text": [
      "49\n"
     ]
    }
   ],
   "source": [
    "import statistics\n",
    "import numpy as np\n",
    "import matplotlib.pyplot as plt\n",
    "\n",
    "x=np.array([0,5,10,15,17,20,23,25, 30, 40, 65, 70, 75,85,87,87,89,95,80,76]) \n",
    "y=np.linspace (1,20,20)\n",
    "mean = statistics.mean(x)\n",
    "\n",
    "print(mean)\n"
   ]
  },
  {
   "attachments": {},
   "cell_type": "markdown",
   "metadata": {},
   "source": [
    "### Median"
   ]
  },
  {
   "cell_type": "code",
   "execution_count": 2,
   "metadata": {},
   "outputs": [
    {
     "name": "stdout",
     "output_type": "stream",
     "text": [
      "52.5\n"
     ]
    }
   ],
   "source": [
    "median = statistics.median(x)\n",
    "\n",
    "print(median)\n"
   ]
  },
  {
   "attachments": {},
   "cell_type": "markdown",
   "metadata": {},
   "source": [
    "### Mode"
   ]
  },
  {
   "cell_type": "code",
   "execution_count": 3,
   "metadata": {},
   "outputs": [
    {
     "name": "stdout",
     "output_type": "stream",
     "text": [
      "87\n"
     ]
    }
   ],
   "source": [
    "mode = statistics.mode(x)\n",
    "\n",
    "print(mode)"
   ]
  },
  {
   "attachments": {},
   "cell_type": "markdown",
   "metadata": {},
   "source": [
    "###  Standard deviation "
   ]
  },
  {
   "cell_type": "code",
   "execution_count": 4,
   "metadata": {},
   "outputs": [
    {
     "name": "stdout",
     "output_type": "stream",
     "text": [
      "33.645207682521445\n"
     ]
    }
   ],
   "source": [
    "import statistics\n",
    "\n",
    "\n",
    "stdev = statistics.stdev(x)\n",
    "\n",
    "print(stdev)"
   ]
  },
  {
   "attachments": {},
   "cell_type": "markdown",
   "metadata": {},
   "source": [
    "### Variance"
   ]
  },
  {
   "cell_type": "code",
   "execution_count": 5,
   "metadata": {},
   "outputs": [
    {
     "name": "stdout",
     "output_type": "stream",
     "text": [
      "1132\n"
     ]
    }
   ],
   "source": [
    "variance = statistics.variance(x)\n",
    "\n",
    "print(variance)"
   ]
  },
  {
   "attachments": {},
   "cell_type": "markdown",
   "metadata": {},
   "source": [
    "### Skewness"
   ]
  },
  {
   "cell_type": "code",
   "execution_count": 6,
   "metadata": {},
   "outputs": [
    {
     "name": "stdout",
     "output_type": "stream",
     "text": [
      "-0.06325265028245132\n"
     ]
    },
    {
     "data": {
      "image/png": "[encoded data removed]",
      "text/plain": [
       "<Figure size 640x480 with 1 Axes>"
      ]
     },
     "metadata": {},
     "output_type": "display_data"
    }
   ],
   "source": [
    "from scipy.stats import skew\n",
    "\n",
    "\n",
    "skewness = skew(x)\n",
    "plt.plot(x)\n",
    "\n",
    "print(skewness)"
   ]
  },
  {
   "attachments": {},
   "cell_type": "markdown",
   "metadata": {},
   "source": [
    "### Kurtosis"
   ]
  },
  {
   "cell_type": "code",
   "execution_count": 7,
   "metadata": {},
   "outputs": [
    {
     "name": "stdout",
     "output_type": "stream",
     "text": [
      "Kurtosis: 1.3365026184989546\n",
      "1.3365026184989546\n"
     ]
    }
   ],
   "source": [
    "# Calculate the kurtosis using scipy \n",
    "from scipy.stats import kurtosis\n",
    "kurtosis_val = kurtosis(x) \n",
    "print(\"Kurtosis:\", kurtosis_val+3)\n",
    "\n",
    "#calculate Kurtosis using formula #u4 and sigma4\n",
    "\n",
    "#u4 and sigma4\n",
    "\n",
    "def kirtosis (arr):\n",
    "    s4 = np.power(np.sqrt(np. sum(np. power (arr-np.mean(arr), 2)/arr.size)),4)\n",
    "    u4 = np. sum(np. power (arr-np.mean(arr),4))\n",
    "    return u4/(arr.size*s4)\n",
    "\n",
    "print (kurtosis(x)+3)"
   ]
  },
  {
   "attachments": {},
   "cell_type": "markdown",
   "metadata": {},
   "source": [
    "### Percentile & quartile."
   ]
  },
  {
   "cell_type": "code",
   "execution_count": 8,
   "metadata": {},
   "outputs": [
    {
     "name": "stdout",
     "output_type": "stream",
     "text": [
      "50th percentile is : 52.5\n",
      "1st Quartile: 19.25\n",
      "2nd Quartile: 52.5\n",
      "3rd Quartile: 81.25\n"
     ]
    }
   ],
   "source": [
    "import numpy as np\n",
    "\n",
    "\n",
    "p50 = np.percentile(x, 50) # Calculates 50th percentile (i.e., median)\n",
    "print(\"50th percentile is :\",p50)\n",
    "\n",
    "\n",
    "# Calculate the quartiles using numpy \n",
    "quartiles = np. percentile (x, [25, 50, 75])\n",
    "\n",
    "print(\"1st Quartile:\", quartiles[0])\n",
    "\n",
    "print(\"2nd Quartile:\", quartiles [1])\n",
    "\n",
    "print(\"3rd Quartile:\", quartiles [2])"
   ]
  }
 ],
 "metadata": {
  "kernelspec": {
   "display_name": "Python 3",
   "language": "python",
   "name": "python3"
  },
  "language_info": {
   "codemirror_mode": {
    "name": "ipython",
    "version": 3
   },
   "file_extension": ".py",
   "mimetype": "text/x-python",
   "name": "python",
   "nbconvert_exporter": "python",
   "pygments_lexer": "ipython3",
   "version": "3.9.1"
  },
  "orig_nbformat": 4
 },
 "nbformat": 4,
 "nbformat_minor": 2
}
