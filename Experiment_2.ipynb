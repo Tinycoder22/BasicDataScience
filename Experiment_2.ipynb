{
 "cells": [
  {
   "cell_type": "code",
   "execution_count": 1,
   "metadata": {},
   "outputs": [],
   "source": [
    "import numpy as np\n",
    "\n",
    "# create a numpy array\n",
    "a = np.array([[1, 2, 3], [4, 5, 6], [7, 8, 9]])"
   ]
  },
  {
   "cell_type": "code",
   "execution_count": 2,
   "metadata": {},
   "outputs": [
    {
     "name": "stdout",
     "output_type": "stream",
     "text": [
      "Minimum value: 1\n"
     ]
    }
   ],
   "source": [
    "# compute the minimum value of the array\n",
    "min_val = np.amin(a)\n",
    "print(\"Minimum value:\", min_val)\n"
   ]
  },
  {
   "cell_type": "code",
   "execution_count": 3,
   "metadata": {},
   "outputs": [
    {
     "name": "stdout",
     "output_type": "stream",
     "text": [
      "Maximum value: 9\n"
     ]
    }
   ],
   "source": [
    "# compute the maximum value of the array\n",
    "max_val = np.amax(a)\n",
    "print(\"Maximum value:\", max_val)"
   ]
  },
  {
   "cell_type": "code",
   "execution_count": 4,
   "metadata": {},
   "outputs": [
    {
     "name": "stdout",
     "output_type": "stream",
     "text": [
      "Range of values: 8\n"
     ]
    }
   ],
   "source": [
    "# compute the range of values in the array\n",
    "range_val = np.ptp(a)\n",
    "print(\"Range of values:\", range_val)\n"
   ]
  },
  {
   "cell_type": "code",
   "execution_count": 5,
   "metadata": {},
   "outputs": [
    {
     "name": "stdout",
     "output_type": "stream",
     "text": [
      "50th percentile: [4. 5. 6.]\n"
     ]
    }
   ],
   "source": [
    "# compute the 50th percentile of the data along axis 0\n",
    "percentile_val = np.percentile(a, 50, axis=0)\n",
    "print(\"50th percentile:\", percentile_val)"
   ]
  },
  {
   "cell_type": "code",
   "execution_count": 6,
   "metadata": {},
   "outputs": [
    {
     "name": "stdout",
     "output_type": "stream",
     "text": [
      "Mean: [2. 5. 8.]\n"
     ]
    }
   ],
   "source": [
    "# compute the mean along axis 1\n",
    "mean_val = np.mean(a, axis=1)\n",
    "print(\"Mean:\", mean_val)\n"
   ]
  },
  {
   "cell_type": "code",
   "execution_count": 7,
   "metadata": {},
   "outputs": [
    {
     "name": "stdout",
     "output_type": "stream",
     "text": [
      "Median: [4. 5. 6.]\n"
     ]
    }
   ],
   "source": [
    "# compute the median along axis 0\n",
    "median_val = np.median(a, axis=0)\n",
    "print(\"Median:\", median_val)"
   ]
  },
  {
   "cell_type": "code",
   "execution_count": 8,
   "metadata": {},
   "outputs": [
    {
     "name": "stdout",
     "output_type": "stream",
     "text": [
      "Standard deviation: [0.81649658 0.81649658 0.81649658]\n"
     ]
    }
   ],
   "source": [
    "# compute the standard deviation along axis 1\n",
    "std_val = np.std(a, axis=1)\n",
    "print(\"Standard deviation:\", std_val)"
   ]
  },
  {
   "cell_type": "code",
   "execution_count": 9,
   "metadata": {},
   "outputs": [
    {
     "name": "stdout",
     "output_type": "stream",
     "text": [
      "Variance: [6. 6. 6.]\n"
     ]
    }
   ],
   "source": [
    "# compute the variance along axis 0\n",
    "var_val = np.var(a, axis=0)\n",
    "print(\"Variance:\", var_val)"
   ]
  },
  {
   "cell_type": "code",
   "execution_count": 10,
   "metadata": {},
   "outputs": [
    {
     "name": "stdout",
     "output_type": "stream",
     "text": [
      "Weighted average: [2.5 5.5 8.5]\n"
     ]
    }
   ],
   "source": [
    "# compute the weighted average along axis 1\n",
    "weights = np.array([0.1, 0.3, 0.6])\n",
    "average_val = np.average(a, axis=1, weights=weights)\n",
    "print(\"Weighted average:\", average_val)"
   ]
  },
  {
   "attachments": {},
   "cell_type": "markdown",
   "metadata": {},
   "source": [
    "## TRIGONOMETRIC FUNCTIONS"
   ]
  },
  {
   "cell_type": "code",
   "execution_count": 11,
   "metadata": {},
   "outputs": [
    {
     "name": "stdout",
     "output_type": "stream",
     "text": [
      "sin(x) = 0.7071067811865476\n",
      "cos(x) = 0.7071067811865476\n",
      "tan(x) = 0.9999999999999999\n"
     ]
    }
   ],
   "source": [
    "# Compute the sine, cosine, and tangent of an angle in radians\n",
    "x = np.pi / 4.0\n",
    "print(\"sin(x) =\", np.sin(x))\n",
    "print(\"cos(x) =\", np.cos(x))\n",
    "print(\"tan(x) =\", np.tan(x))"
   ]
  },
  {
   "cell_type": "code",
   "execution_count": 12,
   "metadata": {},
   "outputs": [
    {
     "name": "stdout",
     "output_type": "stream",
     "text": [
      "arcsin(y) = 0.5235987755982989\n",
      "arccos(y) = 1.0471975511965979\n",
      "arctan(y) = 0.4636476090008061\n"
     ]
    }
   ],
   "source": [
    "# Compute the inverse sine, cosine, and tangent of a value\n",
    "y = 0.5\n",
    "print(\"arcsin(y) =\", np.arcsin(y))\n",
    "print(\"arccos(y) =\", np.arccos(y))\n",
    "print(\"arctan(y) =\", np.arctan(y))"
   ]
  },
  {
   "cell_type": "code",
   "execution_count": 13,
   "metadata": {},
   "outputs": [
    {
     "name": "stdout",
     "output_type": "stream",
     "text": [
      "hypot(a, b) = 5.0\n"
     ]
    }
   ],
   "source": [
    "# Compute the hypotenuse of a right triangle\n",
    "a = 3\n",
    "b = 4\n",
    "print(\"hypot(a, b) =\", np.hypot(a, b))"
   ]
  },
  {
   "cell_type": "code",
   "execution_count": 14,
   "metadata": {},
   "outputs": [
    {
     "name": "stdout",
     "output_type": "stream",
     "text": [
      "sinh(z) = 1.1752011936438014\n",
      "cosh(z) = 1.5430806348152437\n",
      "tanh(z) = 0.7615941559557649\n"
     ]
    }
   ],
   "source": [
    "# Compute the hyperbolic sine, cosine, and tangent of a value\n",
    "z = 1.0\n",
    "print(\"sinh(z) =\", np.sinh(z))\n",
    "print(\"cosh(z) =\", np.cosh(z))\n",
    "print(\"tanh(z) =\", np.tanh(z))\n"
   ]
  },
  {
   "cell_type": "code",
   "execution_count": 15,
   "metadata": {},
   "outputs": [
    {
     "name": "stdout",
     "output_type": "stream",
     "text": [
      "arcsinh(w) = 1.1947632172871094\n",
      "arccosh(w) = 0.9624236501192069\n",
      "arctanh(w) = nan\n"
     ]
    },
    {
     "name": "stderr",
     "output_type": "stream",
     "text": [
      "C:\\Users\\Gourav\\AppData\\Local\\Temp\\ipykernel_8928\\2014841764.py:5: RuntimeWarning: invalid value encountered in arctanh\n",
      "  print(\"arctanh(w) =\", np.arctanh(w))\n"
     ]
    }
   ],
   "source": [
    "# Compute the inverse hyperbolic sine, cosine, and tangent of a value\n",
    "w = 1.5\n",
    "print(\"arcsinh(w) =\", np.arcsinh(w))\n",
    "print(\"arccosh(w) =\", np.arccosh(w))\n",
    "print(\"arctanh(w) =\", np.arctanh(w))"
   ]
  },
  {
   "cell_type": "code",
   "execution_count": 16,
   "metadata": {},
   "outputs": [
    {
     "name": "stdout",
     "output_type": "stream",
     "text": [
      "45.0 degrees = 0.7853981633974483 radians\n",
      "0.7853981633974483 radians = 45.0 degrees\n"
     ]
    }
   ],
   "source": [
    "# Convert degrees to radians and vice versa\n",
    "deg = 45.0\n",
    "rad = np.deg2rad(deg)\n",
    "print(deg, \"degrees =\", rad, \"radians\")\n",
    "print(rad, \"radians =\", np.rad2deg(rad), \"degrees\")\n"
   ]
  },
  {
   "attachments": {},
   "cell_type": "markdown",
   "metadata": {},
   "source": [
    "## BIT-TWIDDLING FUNCTIONS"
   ]
  },
  {
   "cell_type": "code",
   "execution_count": 17,
   "metadata": {},
   "outputs": [],
   "source": [
    "# Create two arrays for bitwise operations\n",
    "a = np.array([1, 2, 3, 4, 5], dtype=np.uint8)\n",
    "b = np.array([5, 4, 3, 2, 1], dtype=np.uint8)"
   ]
  },
  {
   "cell_type": "code",
   "execution_count": 18,
   "metadata": {},
   "outputs": [
    {
     "name": "stdout",
     "output_type": "stream",
     "text": [
      "Bitwise AND:  [1 0 3 0 1]\n",
      "Bitwise OR:  [5 6 3 6 5]\n",
      "Bitwise XOR:  [4 6 0 6 4]\n"
     ]
    }
   ],
   "source": [
    "# Perform bitwise AND, OR, and XOR operations on the arrays\n",
    "print(\"Bitwise AND: \", np.bitwise_and(a, b))\n",
    "print(\"Bitwise OR: \", np.bitwise_or(a, b))\n",
    "print(\"Bitwise XOR: \", np.bitwise_xor(a, b))"
   ]
  },
  {
   "cell_type": "code",
   "execution_count": 19,
   "metadata": {},
   "outputs": [
    {
     "name": "stdout",
     "output_type": "stream",
     "text": [
      "Inverted:  [254 253 252 251 250]\n"
     ]
    }
   ],
   "source": [
    "\n",
    "# Invert all the bits in the first array\n",
    "print(\"Inverted: \", np.invert(a))"
   ]
  },
  {
   "cell_type": "code",
   "execution_count": 20,
   "metadata": {},
   "outputs": [
    {
     "name": "stdout",
     "output_type": "stream",
     "text": [
      "Left Shift:  [ 4  8 12 16 20]\n"
     ]
    }
   ],
   "source": [
    "# Shift all the bits in the first array to the left by 2 positions\n",
    "print(\"Left Shift: \", np.left_shift(a, 2))"
   ]
  },
  {
   "cell_type": "code",
   "execution_count": 21,
   "metadata": {},
   "outputs": [
    {
     "name": "stdout",
     "output_type": "stream",
     "text": [
      "Right Shift:  [0 0 0 1 1]\n"
     ]
    }
   ],
   "source": [
    "# Shift all the bits in the first array to the RIGHT by 2 positions\n",
    "print(\"Right Shift: \", np.right_shift(a, 2))"
   ]
  }
 ],
 "metadata": {
  "kernelspec": {
   "display_name": "Python 3",
   "language": "python",
   "name": "python3"
  },
  "language_info": {
   "codemirror_mode": {
    "name": "ipython",
    "version": 3
   },
   "file_extension": ".py",
   "mimetype": "text/x-python",
   "name": "python",
   "nbconvert_exporter": "python",
   "pygments_lexer": "ipython3",
   "version": "3.9.1"
  },
  "orig_nbformat": 4
 },
 "nbformat": 4,
 "nbformat_minor": 2
}
