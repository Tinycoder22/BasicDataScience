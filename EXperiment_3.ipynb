{
 "cells": [
  {
   "cell_type": "code",
   "execution_count": 1,
   "metadata": {},
   "outputs": [
    {
     "name": "stdout",
     "output_type": "stream",
     "text": [
      "      name  age gender occupation\n",
      "0    Alice   25      F   Engineer\n",
      "1      Bob   32      M    Manager\n",
      "2  Charlie   18      F    Student\n",
      "3    David   47      M  Scientist\n",
      "4    Emily   22      F    Teacher\n"
     ]
    }
   ],
   "source": [
    "import pandas as pd\n",
    "\n",
    "# Create a dictionary of data\n",
    "data = {'name': ['Alice', 'Bob', 'Charlie', 'David', 'Emily'],\n",
    "        'age': [25, 32, 18, 47, 22],\n",
    "        'gender': ['F', 'M', 'F', 'M', 'F'],\n",
    "        'occupation': ['Engineer', 'Manager', 'Student', 'Scientist', 'Teacher']}\n",
    "\n",
    "# Create a DataFrame from the dictionary\n",
    "df = pd.DataFrame(data)\n",
    "\n",
    "# Print the DataFrame\n",
    "print(df)\n"
   ]
  },
  {
   "cell_type": "code",
   "execution_count": 2,
   "metadata": {},
   "outputs": [
    {
     "name": "stdout",
     "output_type": "stream",
     "text": [
      "0    1\n",
      "1    3\n",
      "2    5\n",
      "3    7\n",
      "4    9\n",
      "dtype: int64\n",
      "int64\n"
     ]
    }
   ],
   "source": [
    "# Create a Series from a list of values\n",
    "data = [1, 3, 5, 7, 9]\n",
    "s = pd.Series(data)\n",
    "\n",
    "# Print the Series and its data type\n",
    "print(s)\n",
    "print(s.dtype)\n"
   ]
  },
  {
   "cell_type": "code",
   "execution_count": 3,
   "metadata": {},
   "outputs": [
    {
     "name": "stdout",
     "output_type": "stream",
     "text": [
      "Using loc:\n",
      "    name  age\n",
      "0   John   25\n",
      "1   Mary   32\n",
      "2  Peter   18\n",
      "   name  age gender\n",
      "1  Mary   32      F\n",
      "3  Jane   47      F\n",
      "4  Mark   54      M\n",
      "    name  age\n",
      "0   John   25\n",
      "2  Peter   18\n",
      "4   Mark   54\n",
      "\n",
      "Using iloc:\n",
      "   name  age\n",
      "0  John   25\n",
      "1  Mary   32\n",
      "   name gender\n",
      "0  John      M\n",
      "3  Jane      F\n"
     ]
    }
   ],
   "source": [
    "# Create a sample DataFrame\n",
    "data0 = {'name': ['John', 'Mary', 'Peter', 'Jane', 'Mark'],\n",
    "        'age': [25, 32, 18, 47, 54],\n",
    "        'gender': ['M', 'F', 'M', 'F', 'M']}\n",
    "df0 = pd.DataFrame(data0)\n",
    "\n",
    "# Using loc to slice rows and columns by label\n",
    "print(\"Using loc:\")\n",
    "print(df0.loc[0:2, 'name':'age'])  # Slice the first three rows and the 'name' and 'age' columns\n",
    "print(df0.loc[df0['age'] > 30])     # Slice the rows where age is greater than 30\n",
    "print(df0.loc[df0['gender'] == 'M', 'name':'age'])  # Slice the 'name' and 'age' columns for male rows\n",
    "\n",
    "# Using iloc to slice rows and columns by position\n",
    "print(\"\\nUsing iloc:\")\n",
    "print(df0.iloc[0:2, 0:2])  # Slice the first two rows and the first two columns\n",
    "print(df0.iloc[[0,3], [0,2]])  # Slice the first and fourth rows and the first and third columns\n"
   ]
  },
  {
   "attachments": {},
   "cell_type": "markdown",
   "metadata": {},
   "source": [
    "### 7.1 Fetching all rows & some columns"
   ]
  },
  {
   "cell_type": "code",
   "execution_count": 5,
   "metadata": {},
   "outputs": [
    {
     "name": "stdout",
     "output_type": "stream",
     "text": [
      "    name gender\n",
      "0   John      M\n",
      "1   Mary      F\n",
      "2  Peter      M\n",
      "3   Jane      F\n",
      "4   Mark      M\n"
     ]
    }
   ],
   "source": [
    "# Create a sample DataFrame\n",
    "data1 = {'name': ['John', 'Mary', 'Peter', 'Jane', 'Mark'],\n",
    "        'age': [25, 32, 18, 47, 54],\n",
    "        'gender': ['M', 'F', 'M', 'F', 'M']}\n",
    "df1 = pd.DataFrame(data1)\n",
    "\n",
    "# Fetch all rows and some columns\n",
    "df_some_cols = df1.iloc[:, [0, 2]]  # first and third columns\n",
    "print(df_some_cols)\n"
   ]
  },
  {
   "attachments": {},
   "cell_type": "markdown",
   "metadata": {},
   "source": [
    "### 7.2 Fetching some rows & all columns"
   ]
  },
  {
   "cell_type": "code",
   "execution_count": 6,
   "metadata": {},
   "outputs": [
    {
     "name": "stdout",
     "output_type": "stream",
     "text": [
      "      name  age gender occupation\n",
      "1      Bob   32      M    Manager\n",
      "2  Charlie   18      F    Student\n",
      "3    David   47      M  Scientist\n"
     ]
    }
   ],
   "source": [
    "df_some_rows = df.iloc[1:4, :]  # second to fourth rows\n",
    "print(df_some_rows)"
   ]
  },
  {
   "attachments": {},
   "cell_type": "markdown",
   "metadata": {},
   "source": [
    "### 7.3 Fetching all rows & all columns"
   ]
  },
  {
   "cell_type": "code",
   "execution_count": 7,
   "metadata": {},
   "outputs": [
    {
     "name": "stdout",
     "output_type": "stream",
     "text": [
      "      name  age gender occupation\n",
      "0    Alice   25      F   Engineer\n",
      "1      Bob   32      M    Manager\n",
      "2  Charlie   18      F    Student\n",
      "3    David   47      M  Scientist\n",
      "4    Emily   22      F    Teacher\n"
     ]
    }
   ],
   "source": [
    "# Fetch all rows and all columns\n",
    "df_all = df.iloc[:, :]\n",
    "print(df_all)"
   ]
  },
  {
   "attachments": {},
   "cell_type": "markdown",
   "metadata": {},
   "source": [
    "### 7.4 Using Except (Excluding some columns)"
   ]
  },
  {
   "cell_type": "code",
   "execution_count": 8,
   "metadata": {},
   "outputs": [
    {
     "name": "stdout",
     "output_type": "stream",
     "text": [
      "      name gender occupation\n",
      "0    Alice      F   Engineer\n",
      "1      Bob      M    Manager\n",
      "2  Charlie      F    Student\n",
      "3    David      M  Scientist\n",
      "4    Emily      F    Teacher\n"
     ]
    }
   ],
   "source": [
    "df_except = df.iloc[:, ~df.columns.isin(['age'])]  # exclude 'age' column\n",
    "print(df_except)"
   ]
  },
  {
   "attachments": {},
   "cell_type": "markdown",
   "metadata": {},
   "source": [
    "### Describe(), Shape()"
   ]
  },
  {
   "cell_type": "code",
   "execution_count": 9,
   "metadata": {},
   "outputs": [
    {
     "name": "stdout",
     "output_type": "stream",
     "text": [
      "<bound method NDFrame.describe of     name  age gender\n",
      "0   John   25      M\n",
      "1   Mary   32      F\n",
      "2  Peter   18      M\n",
      "3   Jane   47      F\n",
      "4   Mark   54      M>\n"
     ]
    }
   ],
   "source": [
    "print(df1.describe)"
   ]
  },
  {
   "cell_type": "code",
   "execution_count": 10,
   "metadata": {},
   "outputs": [
    {
     "name": "stdout",
     "output_type": "stream",
     "text": [
      "(5, 3)\n"
     ]
    }
   ],
   "source": [
    "print(df1.shape)"
   ]
  }
 ],
 "metadata": {
  "kernelspec": {
   "display_name": "Python 3",
   "language": "python",
   "name": "python3"
  },
  "language_info": {
   "codemirror_mode": {
    "name": "ipython",
    "version": 3
   },
   "file_extension": ".py",
   "mimetype": "text/x-python",
   "name": "python",
   "nbconvert_exporter": "python",
   "pygments_lexer": "ipython3",
   "version": "3.9.1"
  },
  "orig_nbformat": 4
 },
 "nbformat": 4,
 "nbformat_minor": 2
}
