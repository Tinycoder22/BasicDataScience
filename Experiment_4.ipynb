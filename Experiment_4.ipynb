{
 "cells": [
  {
   "cell_type": "code",
   "execution_count": 1,
   "metadata": {},
   "outputs": [],
   "source": [
    "import pandas as pd\n",
    "import numpy as np\n",
    "\n",
    "# Create a sample DataFrame\n",
    "data = {'name': ['John', 'Mary', 'Peter', 'Jane', 'Mark'],\n",
    "        'age': [25, np.nan, 18, 47, 54],\n",
    "        'gender': ['M', 'F', 'M', np.nan, 'M']}\n",
    "df = pd.DataFrame(data)\n"
   ]
  },
  {
   "cell_type": "code",
   "execution_count": 2,
   "metadata": {},
   "outputs": [
    {
     "name": "stdout",
     "output_type": "stream",
     "text": [
      "    name    age  gender\n",
      "0  False  False   False\n",
      "1  False   True   False\n",
      "2  False  False   False\n",
      "3  False  False    True\n",
      "4  False  False   False\n"
     ]
    }
   ],
   "source": [
    "print(df.isnull())"
   ]
  },
  {
   "cell_type": "code",
   "execution_count": 3,
   "metadata": {},
   "outputs": [
    {
     "name": "stdout",
     "output_type": "stream",
     "text": [
      "   name    age  gender\n",
      "0  True   True    True\n",
      "1  True  False    True\n",
      "2  True   True    True\n",
      "3  True   True   False\n",
      "4  True   True    True\n"
     ]
    }
   ],
   "source": [
    "# Use notnull() function\n",
    "print(df.notnull())"
   ]
  },
  {
   "cell_type": "code",
   "execution_count": 4,
   "metadata": {},
   "outputs": [
    {
     "name": "stdout",
     "output_type": "stream",
     "text": [
      "    name   age gender\n",
      "0   John  25.0      M\n",
      "2  Peter  18.0      M\n",
      "4   Mark  54.0      M\n"
     ]
    }
   ],
   "source": [
    "# Use dropna() function\n",
    "print(df.dropna())"
   ]
  },
  {
   "cell_type": "code",
   "execution_count": 5,
   "metadata": {},
   "outputs": [
    {
     "name": "stdout",
     "output_type": "stream",
     "text": [
      "    name   age gender\n",
      "0   John  25.0      M\n",
      "1   Mary   0.0      F\n",
      "2  Peter  18.0      M\n",
      "3   Jane  47.0      0\n",
      "4   Mark  54.0      M\n"
     ]
    }
   ],
   "source": [
    "# Use fillna() function\n",
    "print(df.fillna(0))"
   ]
  },
  {
   "cell_type": "code",
   "execution_count": 6,
   "metadata": {},
   "outputs": [
    {
     "name": "stdout",
     "output_type": "stream",
     "text": [
      "    name   age gender\n",
      "0   John  25.0      M\n",
      "1   Mary   0.0      F\n",
      "2  Peter  18.0      M\n",
      "3   Jane  47.0      0\n",
      "4   Mark  54.0      M\n"
     ]
    }
   ],
   "source": [
    "# Use fillna() function\n",
    "print(df.fillna(0))"
   ]
  },
  {
   "cell_type": "code",
   "execution_count": 7,
   "metadata": {},
   "outputs": [
    {
     "name": "stdout",
     "output_type": "stream",
     "text": [
      "    name   age gender\n",
      "0   John  25.0   Male\n",
      "1   Mary   NaN      F\n",
      "2  Peter  18.0   Male\n",
      "3   Jane  47.0    NaN\n",
      "4   Mark  54.0   Male\n"
     ]
    }
   ],
   "source": [
    "# Use replace() function\n",
    "print(df.replace('M', 'Male'))"
   ]
  },
  {
   "cell_type": "code",
   "execution_count": 8,
   "metadata": {},
   "outputs": [
    {
     "name": "stdout",
     "output_type": "stream",
     "text": [
      "    name   age gender\n",
      "0   John  25.0      M\n",
      "1   Mary  21.5      F\n",
      "2  Peter  18.0      M\n",
      "3   Jane  47.0    NaN\n",
      "4   Mark  54.0      M\n"
     ]
    }
   ],
   "source": [
    "# Use interpolate() function\n",
    "print(df.interpolate())"
   ]
  },
  {
   "attachments": {},
   "cell_type": "markdown",
   "metadata": {},
   "source": [
    "## Combining Data set’s"
   ]
  },
  {
   "attachments": {},
   "cell_type": "markdown",
   "metadata": {},
   "source": [
    "### Combining Data set’s"
   ]
  },
  {
   "cell_type": "code",
   "execution_count": 9,
   "metadata": {},
   "outputs": [
    {
     "name": "stdout",
     "output_type": "stream",
     "text": [
      "    A   B   C   D\n",
      "0  A0  B0  C0  D0\n",
      "1  A1  B1  C1  D1\n",
      "2  A2  B2  C2  D2\n",
      "3  A3  B3  C3  D3\n",
      "0  A4  B4  C4  D4\n",
      "1  A5  B5  C5  D5\n",
      "2  A6  B6  C6  D6\n",
      "3  A7  B7  C7  D7\n"
     ]
    }
   ],
   "source": [
    "# Create two sample DataFrames\n",
    "df1 = pd.DataFrame({'A': ['A0', 'A1', 'A2', 'A3'],\n",
    "                    'B': ['B0', 'B1', 'B2', 'B3'],\n",
    "                    'C': ['C0', 'C1', 'C2', 'C3'],\n",
    "                    'D': ['D0', 'D1', 'D2', 'D3']})\n",
    "df2 = pd.DataFrame({'A': ['A4', 'A5', 'A6', 'A7'],\n",
    "                    'B': ['B4', 'B5', 'B6', 'B7'],\n",
    "                    'C': ['C4', 'C5', 'C6', 'C7'],\n",
    "                    'D': ['D4', 'D5', 'D6', 'D7']})\n",
    "\n",
    "# Use concat() function for concatenation\n",
    "df_concat = pd.concat([df1, df2])\n",
    "print(df_concat)\n"
   ]
  },
  {
   "cell_type": "code",
   "execution_count": 10,
   "metadata": {},
   "outputs": [
    {
     "name": "stdout",
     "output_type": "stream",
     "text": [
      "    A   B   C   D\n",
      "0  A0  B0  C0  D0\n",
      "1  A1  B1  C1  D1\n",
      "2  A2  B2  C2  D2\n",
      "3  A3  B3  C3  D3\n",
      "0  A4  B4  C4  D4\n",
      "1  A5  B5  C5  D5\n",
      "2  A6  B6  C6  D6\n",
      "3  A7  B7  C7  D7\n"
     ]
    },
    {
     "name": "stderr",
     "output_type": "stream",
     "text": [
      "C:\\Users\\Gourav\\AppData\\Local\\Temp\\ipykernel_16572\\3829199119.py:2: FutureWarning: The frame.append method is deprecated and will be removed from pandas in a future version. Use pandas.concat instead.\n",
      "  df_append = df1.append(df2)\n"
     ]
    }
   ],
   "source": [
    "# Use append() function for appending\n",
    "df_append = df1.append(df2)\n",
    "print(df_append)"
   ]
  },
  {
   "attachments": {},
   "cell_type": "markdown",
   "metadata": {},
   "source": [
    "###  Combining Datasets: Merge and Join, Aggregation and Grouping, Pivot Tables"
   ]
  },
  {
   "cell_type": "code",
   "execution_count": 11,
   "metadata": {},
   "outputs": [],
   "source": [
    "# Creating sample dataframes\n",
    "df3 = pd.DataFrame({'key': ['A', 'B', 'C', 'D'],\n",
    "                    'value': [1, 2, 3, 4]})\n",
    "df4 = pd.DataFrame({'key': ['B', 'D', 'E', 'F'],\n",
    "                    'value': [5, 6, 7, 8]})\n"
   ]
  },
  {
   "cell_type": "code",
   "execution_count": 12,
   "metadata": {},
   "outputs": [
    {
     "name": "stdout",
     "output_type": "stream",
     "text": [
      "  key  value_x  value_y\n",
      "0   A      1.0      NaN\n",
      "1   B      2.0      5.0\n",
      "2   C      3.0      NaN\n",
      "3   D      4.0      6.0\n",
      "4   E      NaN      7.0\n",
      "5   F      NaN      8.0\n"
     ]
    }
   ],
   "source": [
    "\n",
    "# Merge the dataframes based on common key\n",
    "merged_df = pd.merge(df3, df4, on='key', how='outer')\n",
    "print(merged_df)"
   ]
  },
  {
   "cell_type": "code",
   "execution_count": 13,
   "metadata": {},
   "outputs": [
    {
     "name": "stdout",
     "output_type": "stream",
     "text": [
      "     value_left  value_right\n",
      "key                         \n",
      "A           1.0          NaN\n",
      "B           2.0          5.0\n",
      "C           3.0          NaN\n",
      "D           4.0          6.0\n",
      "E           NaN          7.0\n",
      "F           NaN          8.0\n"
     ]
    }
   ],
   "source": [
    "import pandas as pd\n",
    "\n",
    "# Creating sample dataframes\n",
    "df3 = pd.DataFrame({'key': ['A', 'B', 'C', 'D'],\n",
    "                    'value': [1, 2, 3, 4]})\n",
    "df4 = pd.DataFrame({'key': ['B', 'D', 'E', 'F'],\n",
    "                    'value': [5, 6, 7, 8]})\n",
    "\n",
    "# Join the dataframes based on common index with specified suffixes\n",
    "joined_df = df3.set_index('key').join(df4.set_index('key'), how='outer', lsuffix='_left', rsuffix='_right')\n",
    "print(joined_df)"
   ]
  },
  {
   "cell_type": "code",
   "execution_count": 14,
   "metadata": {},
   "outputs": [
    {
     "name": "stdout",
     "output_type": "stream",
     "text": [
      "Name\n",
      "Alice      52500.0\n",
      "Bob        62500.0\n",
      "Charlie    70000.0\n",
      "Name: Salary, dtype: float64\n"
     ]
    }
   ],
   "source": [
    "import pandas as pd\n",
    "\n",
    "# create a DataFrame\n",
    "data = {\n",
    "    'Name': ['Alice', 'Bob', 'Charlie', 'Alice', 'Bob'],\n",
    "    'City': ['New York', 'Los Angeles', 'San Francisco', 'New York', 'Los Angeles'],\n",
    "    'Age': [25, 30, 35, 25, 30],\n",
    "    'Salary': [50000, 60000, 70000, 55000, 65000]\n",
    "}\n",
    "\n",
    "df = pd.DataFrame(data)\n",
    "\n",
    "# group the data by 'Name' column and calculate the mean of 'Salary' column for each group\n",
    "grouped_data = df.groupby('Name')['Salary'].mean()\n",
    "\n",
    "print(grouped_data)\n"
   ]
  },
  {
   "cell_type": "code",
   "execution_count": 15,
   "metadata": {},
   "outputs": [
    {
     "name": "stdout",
     "output_type": "stream",
     "text": [
      "City     Los Angeles  New York  San Francisco\n",
      "Name                                         \n",
      "Alice            NaN   52500.0            NaN\n",
      "Bob          62500.0       NaN            NaN\n",
      "Charlie          NaN       NaN        70000.0\n"
     ]
    }
   ],
   "source": [
    "# create a pivot table that groups the data by 'Name' and 'City', and calculates the mean of 'Salary' for each group\n",
    "pivot_table = df.pivot_table(index='Name', columns='City', values='Salary', aggfunc='mean')\n",
    "\n",
    "print(pivot_table)\n"
   ]
  }
 ],
 "metadata": {
  "kernelspec": {
   "display_name": "Python 3",
   "language": "python",
   "name": "python3"
  },
  "language_info": {
   "codemirror_mode": {
    "name": "ipython",
    "version": 3
   },
   "file_extension": ".py",
   "mimetype": "text/x-python",
   "name": "python",
   "nbconvert_exporter": "python",
   "pygments_lexer": "ipython3",
   "version": "3.9.1"
  },
  "orig_nbformat": 4
 },
 "nbformat": 4,
 "nbformat_minor": 2
}
